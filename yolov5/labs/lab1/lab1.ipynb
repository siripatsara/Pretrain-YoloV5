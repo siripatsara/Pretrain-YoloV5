{
 "cells": [
  {
   "cell_type": "code",
   "execution_count": 7,
   "id": "47bc21b3",
   "metadata": {},
   "outputs": [],
   "source": [
    "import torch\n",
    "import torch.nn as nn\n",
    "import torch.nn.functional as F"
   ]
  },
  {
   "cell_type": "code",
   "execution_count": 11,
   "id": "4468776f",
   "metadata": {},
   "outputs": [],
   "source": [
    "# สร้างเลเยอร์ไว้ภายนอกฟังก์ชัน\n",
    "conv1 = nn.Conv2d(in_channels=1, out_channels=12, kernel_size=4, stride=2, padding=0)\n",
    "conv2 = nn.Conv2d(in_channels=12, out_channels=10, kernel_size=3, stride=1, padding=0)\n",
    "pool = nn.MaxPool2d(kernel_size=2)\n",
    "leaky_relu = nn.LeakyReLU()"
   ]
  },
  {
   "cell_type": "code",
   "execution_count": 9,
   "id": "b7f57f06",
   "metadata": {},
   "outputs": [],
   "source": [
    "# สร้างฟังก์ชันสำหรับ forward pass\n",
    "def forward_pass(x):\n",
    "    print(\"Input:\", x.shape)\n",
    "\n",
    "    x = conv1(x)\n",
    "    print(\"After Conv1:\", x.shape)\n",
    "\n",
    "    x = F.relu(x)\n",
    "    print(\"After ReLU:\", x.shape)\n",
    "\n",
    "    x = pool(x)\n",
    "    print(\"After MaxPool1:\", x.shape)\n",
    "\n",
    "    x = conv2(x)\n",
    "    print(\"After Conv2:\", x.shape)\n",
    "\n",
    "    x = leaky_relu(x)\n",
    "    print(\"After LeakyReLU:\", x.shape)\n",
    "\n",
    "    x = pool(x)\n",
    "    print(\"After MaxPool2:\", x.shape)\n",
    "\n",
    "    return x"
   ]
  },
  {
   "cell_type": "code",
   "execution_count": 10,
   "id": "f3ab45a0",
   "metadata": {},
   "outputs": [
    {
     "name": "stdout",
     "output_type": "stream",
     "text": [
      "Input: torch.Size([1, 1, 100, 100])\n",
      "After Conv1: torch.Size([1, 12, 49, 49])\n",
      "After ReLU: torch.Size([1, 12, 49, 49])\n",
      "After MaxPool1: torch.Size([1, 12, 24, 24])\n",
      "After Conv2: torch.Size([1, 10, 22, 22])\n",
      "After LeakyReLU: torch.Size([1, 10, 22, 22])\n",
      "After MaxPool2: torch.Size([1, 10, 11, 11])\n",
      "Final Output Tensor Size: torch.Size([1, 10, 11, 11])\n"
     ]
    }
   ],
   "source": [
    "# สร้าง input และเรียกใช้งานฟังก์ชัน\n",
    "x_input = torch.randn(1, 1, 100, 100)\n",
    "output = forward_pass(x_input)\n",
    "\n",
    "print(\"Final Output Tensor Size:\", output.shape)"
   ]
  }
 ],
 "metadata": {
  "kernelspec": {
   "display_name": "program",
   "language": "python",
   "name": "python3"
  },
  "language_info": {
   "codemirror_mode": {
    "name": "ipython",
    "version": 3
   },
   "file_extension": ".py",
   "mimetype": "text/x-python",
   "name": "python",
   "nbconvert_exporter": "python",
   "pygments_lexer": "ipython3",
   "version": "3.11.2"
  }
 },
 "nbformat": 4,
 "nbformat_minor": 5
}
