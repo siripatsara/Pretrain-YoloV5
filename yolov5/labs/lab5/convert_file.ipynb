{
 "cells": [
  {
   "cell_type": "code",
   "execution_count": 1,
   "id": "a233b11d",
   "metadata": {},
   "outputs": [
    {
     "name": "stdout",
     "output_type": "stream",
     "text": [
      "⚠️ ไม่พบไฟล์ที่ลงท้ายด้วย '_processed'\n"
     ]
    }
   ],
   "source": [
    "import os\n",
    "import shutil\n",
    "\n",
    "# โฟลเดอร์ต้นทางและปลายทาง\n",
    "input_folder = r'C:\\university\\241-353\\T.Fern\\program\\yolov5\\labs\\lab5\\Others'\n",
    "output_folder = r'C:\\university\\241-353\\T.Fern\\program\\yolov5\\labs\\lab5\\Others'\n",
    "\n",
    "# สร้างโฟลเดอร์ปลายทางถ้ายังไม่มี\n",
    "os.makedirs(output_folder, exist_ok=True)\n",
    "\n",
    "found = False\n",
    "\n",
    "# วนลูปไฟล์ในโฟลเดอร์ต้นทาง\n",
    "for filename in os.listdir(input_folder):\n",
    "    # ลบ .png ถ้ามี เพื่อจัดการชื่อให้เหมือนกัน\n",
    "    name, ext = os.path.splitext(filename)\n",
    "    if name.lower().endswith('_processed'):\n",
    "        found = True\n",
    "        old_path = os.path.join(input_folder, filename)\n",
    "\n",
    "        # สร้างชื่อใหม่โดยลบ '_processed' และเติม '.png'\n",
    "        new_name = name[:-10] + '.png'\n",
    "        new_path = os.path.join(output_folder, new_name)\n",
    "\n",
    "        # คัดลอกไฟล์ไปยังปลายทางพร้อมเปลี่ยนชื่อ\n",
    "        shutil.copy2(old_path, new_path)\n",
    "        print(f'✅ คัดลอกและเปลี่ยนชื่อ: {filename} → {new_name}')\n",
    "\n",
    "if not found:\n",
    "    print(\"⚠️ ไม่พบไฟล์ที่ลงท้ายด้วย '_processed'\")\n"
   ]
  },
  {
   "cell_type": "code",
   "execution_count": 2,
   "id": "5e37f531",
   "metadata": {},
   "outputs": [
    {
     "ename": "PermissionError",
     "evalue": "[Errno 13] Permission denied: 'C:\\\\university\\\\241-353\\\\T.Fern\\\\program\\\\yolov5\\\\labs\\\\lab5\\\\Others'",
     "output_type": "error",
     "traceback": [
      "\u001b[31m---------------------------------------------------------------------------\u001b[39m",
      "\u001b[31mPermissionError\u001b[39m                           Traceback (most recent call last)",
      "\u001b[36mCell\u001b[39m\u001b[36m \u001b[39m\u001b[32mIn[2]\u001b[39m\u001b[32m, line 5\u001b[39m\n\u001b[32m      2\u001b[39m file_path = \u001b[33mr\u001b[39m\u001b[33m'\u001b[39m\u001b[33mC:\u001b[39m\u001b[33m\\\u001b[39m\u001b[33muniversity\u001b[39m\u001b[33m\\\u001b[39m\u001b[33m241-353\u001b[39m\u001b[33m\\\u001b[39m\u001b[33mT.Fern\u001b[39m\u001b[33m\\\u001b[39m\u001b[33mprogram\u001b[39m\u001b[33m\\\u001b[39m\u001b[33myolov5\u001b[39m\u001b[33m\\\u001b[39m\u001b[33mlabs\u001b[39m\u001b[33m\\\u001b[39m\u001b[33mlab5\u001b[39m\u001b[33m\\\u001b[39m\u001b[33mOthers\u001b[39m\u001b[33m'\u001b[39m\n\u001b[32m      4\u001b[39m \u001b[38;5;66;03m# อ่านบรรทัดทั้งหมด\u001b[39;00m\n\u001b[32m----> \u001b[39m\u001b[32m5\u001b[39m \u001b[38;5;28;01mwith\u001b[39;00m \u001b[38;5;28;43mopen\u001b[39;49m\u001b[43m(\u001b[49m\u001b[43mfile_path\u001b[49m\u001b[43m,\u001b[49m\u001b[43m \u001b[49m\u001b[33;43m'\u001b[39;49m\u001b[33;43mr\u001b[39;49m\u001b[33;43m'\u001b[39;49m\u001b[43m,\u001b[49m\u001b[43m \u001b[49m\u001b[43mencoding\u001b[49m\u001b[43m=\u001b[49m\u001b[33;43m'\u001b[39;49m\u001b[33;43mutf-8\u001b[39;49m\u001b[33;43m'\u001b[39;49m\u001b[43m)\u001b[49m \u001b[38;5;28;01mas\u001b[39;00m f:\n\u001b[32m      6\u001b[39m     lines = f.readlines()\n\u001b[32m      8\u001b[39m \u001b[38;5;66;03m# ลบ _processed ออกจากแต่ละบรรทัด\u001b[39;00m\n",
      "\u001b[36mFile \u001b[39m\u001b[32mc:\\university\\241-353\\T.Fern\\program\\.venv\\Lib\\site-packages\\IPython\\core\\interactiveshell.py:327\u001b[39m, in \u001b[36m_modified_open\u001b[39m\u001b[34m(file, *args, **kwargs)\u001b[39m\n\u001b[32m    320\u001b[39m \u001b[38;5;28;01mif\u001b[39;00m file \u001b[38;5;129;01min\u001b[39;00m {\u001b[32m0\u001b[39m, \u001b[32m1\u001b[39m, \u001b[32m2\u001b[39m}:\n\u001b[32m    321\u001b[39m     \u001b[38;5;28;01mraise\u001b[39;00m \u001b[38;5;167;01mValueError\u001b[39;00m(\n\u001b[32m    322\u001b[39m         \u001b[33mf\u001b[39m\u001b[33m\"\u001b[39m\u001b[33mIPython won\u001b[39m\u001b[33m'\u001b[39m\u001b[33mt let you open fd=\u001b[39m\u001b[38;5;132;01m{\u001b[39;00mfile\u001b[38;5;132;01m}\u001b[39;00m\u001b[33m by default \u001b[39m\u001b[33m\"\u001b[39m\n\u001b[32m    323\u001b[39m         \u001b[33m\"\u001b[39m\u001b[33mas it is likely to crash IPython. If you know what you are doing, \u001b[39m\u001b[33m\"\u001b[39m\n\u001b[32m    324\u001b[39m         \u001b[33m\"\u001b[39m\u001b[33myou can use builtins\u001b[39m\u001b[33m'\u001b[39m\u001b[33m open.\u001b[39m\u001b[33m\"\u001b[39m\n\u001b[32m    325\u001b[39m     )\n\u001b[32m--> \u001b[39m\u001b[32m327\u001b[39m \u001b[38;5;28;01mreturn\u001b[39;00m \u001b[43mio_open\u001b[49m\u001b[43m(\u001b[49m\u001b[43mfile\u001b[49m\u001b[43m,\u001b[49m\u001b[43m \u001b[49m\u001b[43m*\u001b[49m\u001b[43margs\u001b[49m\u001b[43m,\u001b[49m\u001b[43m \u001b[49m\u001b[43m*\u001b[49m\u001b[43m*\u001b[49m\u001b[43mkwargs\u001b[49m\u001b[43m)\u001b[49m\n",
      "\u001b[31mPermissionError\u001b[39m: [Errno 13] Permission denied: 'C:\\\\university\\\\241-353\\\\T.Fern\\\\program\\\\yolov5\\\\labs\\\\lab5\\\\Others'"
     ]
    }
   ],
   "source": [
    "# เส้นทางไปยังไฟล์ .txt\n",
    "file_path = r'C:\\university\\241-353\\T.Fern\\program\\yolov5\\labs\\lab5\\Others'\n",
    "\n",
    "# อ่านบรรทัดทั้งหมด\n",
    "with open(file_path, 'r', encoding='utf-8') as f:\n",
    "    lines = f.readlines()\n",
    "\n",
    "# ลบ _processed ออกจากแต่ละบรรทัด\n",
    "new_lines = [line.replace('_processed', '') for line in lines]\n",
    "\n",
    "# เขียนกลับไปทับไฟล์เดิม\n",
    "with open(file_path, 'w', encoding='utf-8') as f:\n",
    "    f.writelines(new_lines)\n",
    "\n",
    "print('ลบ \"_processed\" ออกจากชื่อทั้งหมดในไฟล์เรียบร้อยแล้ว')\n"
   ]
  },
  {
   "cell_type": "code",
   "execution_count": 4,
   "id": "b9486926",
   "metadata": {},
   "outputs": [
    {
     "name": "stdout",
     "output_type": "stream",
     "text": [
      "✅ เปลี่ยนชื่อ: Food_10_processed.txt → Food_10.txt\n",
      "✅ เปลี่ยนชื่อ: Food_11_processed.txt → Food_11.txt\n",
      "✅ เปลี่ยนชื่อ: Food_12_processed.txt → Food_12.txt\n",
      "✅ เปลี่ยนชื่อ: Food_13_processed.txt → Food_13.txt\n",
      "✅ เปลี่ยนชื่อ: Food_14_processed.txt → Food_14.txt\n",
      "✅ เปลี่ยนชื่อ: Food_15_processed.txt → Food_15.txt\n",
      "✅ เปลี่ยนชื่อ: Food_16_processed.txt → Food_16.txt\n",
      "✅ เปลี่ยนชื่อ: Food_17_processed.txt → Food_17.txt\n",
      "✅ เปลี่ยนชื่อ: Food_18_processed.txt → Food_18.txt\n",
      "✅ เปลี่ยนชื่อ: Food_19_processed.txt → Food_19.txt\n",
      "✅ เปลี่ยนชื่อ: Food_1_processed.txt → Food_1.txt\n",
      "✅ เปลี่ยนชื่อ: Food_20_processed.txt → Food_20.txt\n",
      "✅ เปลี่ยนชื่อ: Food_21_processed.txt → Food_21.txt\n",
      "✅ เปลี่ยนชื่อ: Food_22_processed.txt → Food_22.txt\n",
      "✅ เปลี่ยนชื่อ: Food_23_processed.txt → Food_23.txt\n",
      "✅ เปลี่ยนชื่อ: Food_24_processed.txt → Food_24.txt\n",
      "✅ เปลี่ยนชื่อ: Food_25_processed.txt → Food_25.txt\n",
      "✅ เปลี่ยนชื่อ: Food_26_processed.txt → Food_26.txt\n",
      "✅ เปลี่ยนชื่อ: Food_27_processed.txt → Food_27.txt\n",
      "✅ เปลี่ยนชื่อ: Food_28_processed.txt → Food_28.txt\n",
      "✅ เปลี่ยนชื่อ: Food_29_processed.txt → Food_29.txt\n",
      "✅ เปลี่ยนชื่อ: Food_2_processed.txt → Food_2.txt\n",
      "✅ เปลี่ยนชื่อ: Food_30_processed.txt → Food_30.txt\n",
      "✅ เปลี่ยนชื่อ: Food_31_processed.txt → Food_31.txt\n",
      "✅ เปลี่ยนชื่อ: Food_32_processed.txt → Food_32.txt\n",
      "✅ เปลี่ยนชื่อ: Food_33_processed.txt → Food_33.txt\n",
      "✅ เปลี่ยนชื่อ: Food_34_processed.txt → Food_34.txt\n",
      "✅ เปลี่ยนชื่อ: Food_35_processed.txt → Food_35.txt\n",
      "✅ เปลี่ยนชื่อ: Food_36_processed.txt → Food_36.txt\n",
      "✅ เปลี่ยนชื่อ: Food_37_processed.txt → Food_37.txt\n",
      "✅ เปลี่ยนชื่อ: Food_38_processed.txt → Food_38.txt\n",
      "✅ เปลี่ยนชื่อ: Food_39_processed.txt → Food_39.txt\n",
      "✅ เปลี่ยนชื่อ: Food_3_processed.txt → Food_3.txt\n",
      "✅ เปลี่ยนชื่อ: Food_40_processed.txt → Food_40.txt\n",
      "✅ เปลี่ยนชื่อ: Food_41_processed.txt → Food_41.txt\n",
      "✅ เปลี่ยนชื่อ: Food_4_processed.txt → Food_4.txt\n",
      "✅ เปลี่ยนชื่อ: Food_5_processed.txt → Food_5.txt\n",
      "✅ เปลี่ยนชื่อ: Food_6_processed.txt → Food_6.txt\n",
      "✅ เปลี่ยนชื่อ: Food_7_processed.txt → Food_7.txt\n",
      "✅ เปลี่ยนชื่อ: Food_8_processed.txt → Food_8.txt\n",
      "✅ เปลี่ยนชื่อ: Food_9_processed.txt → Food_9.txt\n"
     ]
    }
   ],
   "source": [
    "import os\n",
    "\n",
    "# โฟลเดอร์ต้นทาง (ไม่ต้องมี output_folder เพราะเราจะ rename ทับในที่เดิม)\n",
    "input_folder = r'E:/year4_1/353/T.Fern/program/labs/lab5/Zinth_segm/labels/train'\n",
    "\n",
    "found = False\n",
    "\n",
    "# วนลูปไฟล์ในโฟลเดอร์ต้นทาง\n",
    "for filename in os.listdir(input_folder):\n",
    "    name, ext = os.path.splitext(filename)\n",
    "    \n",
    "    if name.lower().endswith('_processed'):\n",
    "        found = True\n",
    "        old_path = os.path.join(input_folder, filename)\n",
    "\n",
    "        # ลบ '_processed' และรวมกับนามสกุลเดิม เช่น .png\n",
    "        new_name = name[:-10] + ext\n",
    "        new_path = os.path.join(input_folder, new_name)\n",
    "\n",
    "        # เปลี่ยนชื่อไฟล์\n",
    "        os.rename(old_path, new_path)\n",
    "        print(f'✅ เปลี่ยนชื่อ: {filename} → {new_name}')\n",
    "\n",
    "if not found:\n",
    "    print(\"⚠️ ไม่พบไฟล์ที่ลงท้ายด้วย '_processed'\")\n"
   ]
  },
  {
   "cell_type": "code",
   "execution_count": 5,
   "id": "4331df51",
   "metadata": {},
   "outputs": [
    {
     "name": "stdout",
     "output_type": "stream",
     "text": [
      "✅ เปลี่ยนชื่อไฟล์เรียบร้อย\n"
     ]
    }
   ],
   "source": [
    "import os\n",
    "\n",
    "# โฟลเดอร์ที่เก็บไฟล์ภาพ\n",
    "folder_path = r\"C:\\university\\241-353\\T.Fern\\program\\yolov5\\labs\\lab5\\Others\"\n",
    "\n",
    "# ดึงรายชื่อไฟล์ทั้งหมด และกรองเอาเฉพาะไฟล์ภาพที่น่าจะต้องเปลี่ยน\n",
    "files = [f for f in os.listdir(folder_path) if f.lower().endswith(('.jpg', '.jpeg', '.png'))]\n",
    "\n",
    "# จัดเรียงไฟล์เพื่อให้ลำดับเลขสวย\n",
    "files.sort()\n",
    "\n",
    "# วนลูปเปลี่ยนชื่อไฟล์\n",
    "for idx, filename in enumerate(files, start=1):\n",
    "    new_name = f\"Food_{122+idx:02d}.png\"  # ใช้เลข 2 หลัก เช่น 01, 02\n",
    "    old_path = os.path.join(folder_path, filename)\n",
    "    new_path = os.path.join(folder_path, new_name)\n",
    "    os.rename(old_path, new_path)\n",
    "\n",
    "print(\"✅ เปลี่ยนชื่อไฟล์เรียบร้อย\")\n"
   ]
  }
 ],
 "metadata": {
  "kernelspec": {
   "display_name": "program",
   "language": "python",
   "name": "python3"
  },
  "language_info": {
   "codemirror_mode": {
    "name": "ipython",
    "version": 3
   },
   "file_extension": ".py",
   "mimetype": "text/x-python",
   "name": "python",
   "nbconvert_exporter": "python",
   "pygments_lexer": "ipython3",
   "version": "3.11.2"
  }
 },
 "nbformat": 4,
 "nbformat_minor": 5
}
